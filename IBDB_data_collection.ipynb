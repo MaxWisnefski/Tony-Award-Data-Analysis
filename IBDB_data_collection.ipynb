{
 "cells": [
  {
   "cell_type": "markdown",
   "id": "51af9115",
   "metadata": {},
   "source": [
    "# IBDB Webscraping\n",
    "This file webscrapes publically available data from the Broadway League's IBDB (Internet Broadway Database) for the purposes of analyzing the importance of Tony Awards outcomes for Broadway Productions.\n",
    "\n",
    "This file borrows code and takes general inspiration from the following [Colaboratory Jupyter Notebook](https://colab.research.google.com/drive/1IVwOhBMYay14NkO7kGkrPu0Ij9dSDdEP) by Yaakov Bressler"
   ]
  },
  {
   "cell_type": "code",
   "execution_count": 1,
   "id": "5f7d3584",
   "metadata": {},
   "outputs": [],
   "source": [
    "import io\n",
    "import requests\n",
    "from lxml import etree\n",
    "from bs4 import BeautifulSoup\n",
    "import urllib.request\n",
    "import re\n",
    "import string\n",
    "#import time\n",
    "import datetime\n",
    "import pandas as pd\n",
    "import numpy as np\n",
    "import urllib\n",
    "from selenium import webdriver\n",
    "from selenium.webdriver.common.keys import Keys"
   ]
  },
  {
   "cell_type": "markdown",
   "id": "835ca4c1",
   "metadata": {},
   "source": [
    "### Create a function that grabs links from a page, using a tag to identify value of link"
   ]
  },
  {
   "cell_type": "code",
   "execution_count": 2,
   "id": "e7043761",
   "metadata": {},
   "outputs": [],
   "source": [
    "def getLinks_tagged_fast(url, tag):\n",
    "    r = requests.get(url)\n",
    "    html_doc = r.text\n",
    "    soup = BeautifulSoup(html_doc, 'html.parser')\n",
    "    links = []\n",
    "    # set the opening of each link to be...\n",
    "    tag = tag\n",
    "    for link in soup.findAll('a', attrs={'href': re.compile(tag)}):\n",
    "        links.append(link.get('href'))\n",
    "    return links"
   ]
  },
  {
   "cell_type": "markdown",
   "id": "fb6ea3dd",
   "metadata": {},
   "source": [
    "https://www.broadwayworld.com/browseshows.cfm?showtype=BR\n",
    "\n",
    "The above link is your starting point. It will allow us to get the name of every Broadway production that opened between 1979 and now."
   ]
  },
  {
   "cell_type": "code",
   "execution_count": 3,
   "id": "567180b6",
   "metadata": {},
   "outputs": [],
   "source": [
    "def get_show_links_year(year_url):\n",
    "    \"\"\"\n",
    "    This function...\n",
    "    \"\"\"\n",
    "    url = year_url\n",
    "    tag_year = 'browseshows.cfm?'\n",
    "    #calling previous function to get the link I want\n",
    "    years = getLinks_tagged_fast(url, tag_year)[1:]\n",
    "    page_base = 'https://www.broadwayworld.com/'\n",
    "    years_loop =[]\n",
    "    for year in years:\n",
    "        #focusing on 1979 or later\n",
    "        if year[-4:].isdigit() and int(year[-4:]) >= 1979:\n",
    "            years_loop.append(page_base+year)\n",
    "    \n",
    "    # Now you have all the years\n",
    "    tag_show = 'https://www.broadwayworld.com/shows/backstage.php?'\n",
    "    show_links_nested = []\n",
    "    for year in years_loop:\n",
    "        show_links_nested.append(getLinks_tagged_fast(year,tag_show))\n",
    "    show_links = sum(show_links_nested, [])\n",
    "    \n",
    "    return show_links\n",
    "    \n",
    "#running function to get my list of links to the productions I want\n",
    "year_url = 'https://www.broadwayworld.com/browseshows.cfm?showtype=BR'\n",
    "show_links = get_show_links_year(year_url)"
   ]
  },
  {
   "cell_type": "code",
   "execution_count": 4,
   "id": "5f54d8e3",
   "metadata": {},
   "outputs": [
    {
     "data": {
      "text/plain": [
       "1877"
      ]
     },
     "execution_count": 4,
     "metadata": {},
     "output_type": "execute_result"
    }
   ],
   "source": [
    "#don't need every show ever, just 1979 onwards\n",
    "#from here, you will the scrape name of each show, so you can search for it on ibdb.com using selenium\n",
    "#print(show_links)\n",
    "#the number of productions between 1979 and now fits the estimate I made in another assignment (roughly 1800)\n",
    "len(show_links)"
   ]
  },
  {
   "cell_type": "code",
   "execution_count": 5,
   "id": "fd398254",
   "metadata": {},
   "outputs": [],
   "source": [
    "def get_show_name(url):\n",
    "    \"\"\"\n",
    "    This function...\n",
    "    \"\"\"\n",
    "    response = requests.get(url)\n",
    "    #make sure url actually exists\n",
    "    assert response.status_code == 200\n",
    "\n",
    "    show_html = response.text\n",
    "    htmlparser = etree.HTMLParser()\n",
    "    tree = etree.parse(io.StringIO(show_html), parser=htmlparser)\n",
    "    showroot = tree.getroot()\n",
    "    #this xml path is the same for every url, it will give you the name of the show for that url\n",
    "    show_name = showroot.xpath(\"//span[@itemprop = 'name']/text()\")[1]\n",
    "    \n",
    "    return show_name"
   ]
  },
  {
   "cell_type": "code",
   "execution_count": 6,
   "id": "fcf19f71",
   "metadata": {},
   "outputs": [
    {
     "data": {
      "text/plain": [
       "'Oliver!'"
      ]
     },
     "execution_count": 6,
     "metadata": {},
     "output_type": "execute_result"
    }
   ],
   "source": [
    "#testing the function on a random url (tried this with several urls)\n",
    "get_show_name('https://www.broadwayworld.com/shows/backstage.php?showid=6366')"
   ]
  },
  {
   "cell_type": "code",
   "execution_count": 7,
   "id": "1efdc832",
   "metadata": {},
   "outputs": [
    {
     "data": {
      "text/plain": [
       "1877"
      ]
     },
     "execution_count": 7,
     "metadata": {},
     "output_type": "execute_result"
    }
   ],
   "source": [
    "#using get_show_name function to make a list of every single show I want to find data on\n",
    "#took about 10 minutes to run this chunk\n",
    "show_names = []\n",
    "for link in show_links:\n",
    "    show_name = get_show_name(link)\n",
    "    show_names.append(show_name)\n",
    "    \n",
    "len(show_names)"
   ]
  },
  {
   "cell_type": "code",
   "execution_count": 14,
   "id": "212990b8",
   "metadata": {},
   "outputs": [
    {
     "data": {
      "text/plain": [
       "1590"
      ]
     },
     "execution_count": 14,
     "metadata": {},
     "output_type": "execute_result"
    }
   ],
   "source": [
    "#due to the presence of revivals in the list, some show names appear more than once\n",
    "#therefore, to reduce redundancy when I search for these shows on the database, I am only keeping unique show names\n",
    "unique_show_names = []\n",
    "for show in show_names:\n",
    "    if show not in unique_show_names:\n",
    "        unique_show_names.append(show)\n",
    "\n",
    "#print(unique_show_names)     \n",
    "len(unique_show_names)"
   ]
  },
  {
   "cell_type": "code",
   "execution_count": 12,
   "id": "60a60780",
   "metadata": {},
   "outputs": [],
   "source": [
    "#show_names"
   ]
  },
  {
   "cell_type": "code",
   "execution_count": 9,
   "id": "18d7d220",
   "metadata": {},
   "outputs": [],
   "source": [
    "#testing functions from selenium package \n",
    "#will delete this chunk later\n",
    "driver = webdriver.Chrome()\n",
    "productions = ['The King and I', 'Dear Evan Hansen', 'Spring Awakening']\n",
    "for prod in productions:\n",
    "    driver.get('https://www.ibdb.com/shows/')     #website I am searching from (IBDB)\n",
    "    e = driver.find_element('name','ShowProperName')    #locating the searchbar\n",
    "    e.send_keys(prod)       #automating the searches (will store results in a list later)\n",
    "    e.send_keys(Keys.ENTER)\n",
    "    \n",
    "#^MIGHT MAKE MORE SENSE TO SEARCH FOR PRODUCTIONS FROM ADVANCED SEARCH PAGE, RATHER THAN SEARCH FOR SHOWS"
   ]
  },
  {
   "cell_type": "code",
   "execution_count": 42,
   "id": "1f27ba16",
   "metadata": {},
   "outputs": [
    {
     "data": {
      "text/plain": [
       "['/broadway-production/the-king-and-i-1935',\n",
       " '/broadway-production/the-king-and-i-3999',\n",
       " '/broadway-production/the-king-and-i-4357',\n",
       " '/broadway-production/the-king-and-i-4673',\n",
       " '/broadway-production/the-king-and-i-497593']"
      ]
     },
     "execution_count": 42,
     "metadata": {},
     "output_type": "execute_result"
    }
   ],
   "source": [
    "#testing out process for grabbing hrefs I need from search results\n",
    "#next step is to limit it so it only grabs hrefs for productions post 1979\n",
    "resp = requests.get('https://www.ibdb.com/broadway-show/the-king-and-i-5067') #don't need '#nyc-production' in url\n",
    "test_html = resp.text\n",
    "htmlparser = etree.HTMLParser()\n",
    "tree = etree.parse(io.StringIO(test_html), parser=htmlparser)\n",
    "testroot = tree.getroot()\n",
    "links = testroot.xpath('//div[@id = \"nyc-productions\" and @data-id = \"nyc-productions\"]/div/div/div/div/a/@href')\n",
    "\n",
    "links"
   ]
  },
  {
   "cell_type": "code",
   "execution_count": 10,
   "id": "305919d9",
   "metadata": {},
   "outputs": [],
   "source": [
    "#need to get \"/broadway-production/<name-of-show-number>\" for every production\n",
    "#href is important\n",
    "#URL = \"https://www.ibdb.com/shows/\" "
   ]
  }
 ],
 "metadata": {
  "kernelspec": {
   "display_name": "Python 3",
   "language": "python",
   "name": "python3"
  },
  "language_info": {
   "codemirror_mode": {
    "name": "ipython",
    "version": 3
   },
   "file_extension": ".py",
   "mimetype": "text/x-python",
   "name": "python",
   "nbconvert_exporter": "python",
   "pygments_lexer": "ipython3",
   "version": "3.8.8"
  }
 },
 "nbformat": 4,
 "nbformat_minor": 5
}
