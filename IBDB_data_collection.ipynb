{
 "cells": [
  {
   "cell_type": "markdown",
   "id": "51af9115",
   "metadata": {},
   "source": [
    "# IBDB Webscraping\n",
    "This file webscrapes publically available data from the Broadway League's IBDB (Internet Broadway Database) for the purposes of analyzing the importance of Tony Awards outcomes for Broadway Productions.\n",
    "\n",
    "This file borrows code and takes general inspiration from the following [Colaboratory Jupyter Notebook](https://colab.research.google.com/drive/1IVwOhBMYay14NkO7kGkrPu0Ij9dSDdEP) by Yaakov Bressler"
   ]
  },
  {
   "cell_type": "code",
   "execution_count": 1,
   "id": "5f7d3584",
   "metadata": {},
   "outputs": [],
   "source": [
    "import io\n",
    "import requests\n",
    "from lxml import etree\n",
    "from bs4 import BeautifulSoup\n",
    "import urllib.request\n",
    "import re\n",
    "import string\n",
    "#import time\n",
    "import datetime\n",
    "import pandas as pd\n",
    "import numpy as np\n",
    "import urllib\n",
    "from selenium import webdriver\n",
    "from selenium.webdriver.common.keys import Keys"
   ]
  },
  {
   "cell_type": "markdown",
   "id": "835ca4c1",
   "metadata": {},
   "source": [
    "### Create a function that grabs links from a page, using a tag to identify value of link"
   ]
  },
  {
   "cell_type": "code",
   "execution_count": 2,
   "id": "e7043761",
   "metadata": {},
   "outputs": [],
   "source": [
    "def getLinks_tagged_fast(url, tag):\n",
    "    r = requests.get(url)\n",
    "    html_doc = r.text\n",
    "    soup = BeautifulSoup(html_doc, 'html.parser')\n",
    "    links = []\n",
    "    # set the opening of each link to be...\n",
    "    tag = tag\n",
    "    for link in soup.findAll('a', attrs={'href': re.compile(tag)}):\n",
    "        links.append(link.get('href'))\n",
    "    return links"
   ]
  },
  {
   "cell_type": "markdown",
   "id": "fb6ea3dd",
   "metadata": {},
   "source": [
    "https://www.broadwayworld.com/browseshows.cfm?showtype=BR\n",
    "\n",
    "The above link is your starting point. It will allow us to get the name of every Broadway production that opened between 1979 and now."
   ]
  },
  {
   "cell_type": "code",
   "execution_count": 3,
   "id": "567180b6",
   "metadata": {},
   "outputs": [],
   "source": [
    "def get_show_links_year(year_url):\n",
    "    \"\"\"\n",
    "    This function...\n",
    "    \"\"\"\n",
    "    url = year_url\n",
    "    tag_year = 'browseshows.cfm?'\n",
    "    #calling previous function to get the link I want\n",
    "    years = getLinks_tagged_fast(url, tag_year)[1:]\n",
    "    page_base = 'https://www.broadwayworld.com/'\n",
    "    years_loop =[]\n",
    "    for year in years:\n",
    "        #focusing on 1979 or later\n",
    "        if year[-4:].isdigit() and int(year[-4:]) >= 1979:\n",
    "            years_loop.append(page_base+year)\n",
    "    \n",
    "    # Now you have all the years\n",
    "    tag_show = 'https://www.broadwayworld.com/shows/backstage.php?'\n",
    "    show_links_nested = []\n",
    "    for year in years_loop:\n",
    "        show_links_nested.append(getLinks_tagged_fast(year,tag_show))\n",
    "    show_links = sum(show_links_nested, [])\n",
    "    \n",
    "    return show_links\n",
    "    \n",
    "#running function to get my list of links to the productions I want\n",
    "year_url = 'https://www.broadwayworld.com/browseshows.cfm?showtype=BR'\n",
    "show_links = get_show_links_year(year_url)"
   ]
  },
  {
   "cell_type": "code",
   "execution_count": 4,
   "id": "5f54d8e3",
   "metadata": {},
   "outputs": [
    {
     "data": {
      "text/plain": [
       "1877"
      ]
     },
     "execution_count": 4,
     "metadata": {},
     "output_type": "execute_result"
    }
   ],
   "source": [
    "#don't need every show ever, just 1979 onwards\n",
    "#from here, you will the scrape name of each show, so you can search for it on ibdb.com using selenium\n",
    "#print(show_links)\n",
    "#the number of productions between 1979 and now fits the estimate I made in another assignment (roughly 1800)\n",
    "len(show_links)"
   ]
  },
  {
   "cell_type": "code",
   "execution_count": 5,
   "id": "fd398254",
   "metadata": {},
   "outputs": [],
   "source": [
    "def get_show_name(url):\n",
    "    \"\"\"\n",
    "    This function...\n",
    "    \"\"\"\n",
    "    response = requests.get(url)\n",
    "    #make sure url actually exists\n",
    "    assert response.status_code == 200\n",
    "\n",
    "    show_html = response.text\n",
    "    htmlparser = etree.HTMLParser()\n",
    "    tree = etree.parse(io.StringIO(show_html), parser=htmlparser)\n",
    "    showroot = tree.getroot()\n",
    "    #this xml path is the same for every url, it will give you the name of the show for that url\n",
    "    show_name = showroot.xpath(\"//span[@itemprop = 'name']/text()\")[1]\n",
    "    \n",
    "    return show_name"
   ]
  },
  {
   "cell_type": "code",
   "execution_count": 6,
   "id": "fcf19f71",
   "metadata": {},
   "outputs": [
    {
     "data": {
      "text/plain": [
       "'Oliver!'"
      ]
     },
     "execution_count": 6,
     "metadata": {},
     "output_type": "execute_result"
    }
   ],
   "source": [
    "#testing the function on a random url (tried this with several urls)\n",
    "get_show_name('https://www.broadwayworld.com/shows/backstage.php?showid=6366')"
   ]
  },
  {
   "cell_type": "code",
   "execution_count": 7,
   "id": "1efdc832",
   "metadata": {},
   "outputs": [
    {
     "data": {
      "text/plain": [
       "1877"
      ]
     },
     "execution_count": 7,
     "metadata": {},
     "output_type": "execute_result"
    }
   ],
   "source": [
    "#using get_show_name function to make a list of every single show I want to find data on\n",
    "#took about 10 minutes to run this chunk\n",
    "show_names = []\n",
    "for link in show_links:\n",
    "    show_name = get_show_name(link)\n",
    "    show_names.append(show_name)\n",
    "    \n",
    "len(show_names)"
   ]
  },
  {
   "cell_type": "code",
   "execution_count": 14,
   "id": "212990b8",
   "metadata": {},
   "outputs": [
    {
     "data": {
      "text/plain": [
       "1590"
      ]
     },
     "execution_count": 14,
     "metadata": {},
     "output_type": "execute_result"
    }
   ],
   "source": [
    "#due to the presence of revivals in the list, some show names appear more than once\n",
    "#therefore, to reduce redundancy when I search for these shows on the database, I am only keeping unique show names\n",
    "unique_show_names = []\n",
    "for show in show_names:\n",
    "    if show not in unique_show_names:\n",
    "        unique_show_names.append(show)\n",
    "\n",
    "#print(unique_show_names)     \n",
    "len(unique_show_names)"
   ]
  },
  {
   "cell_type": "code",
   "execution_count": 12,
   "id": "60a60780",
   "metadata": {},
   "outputs": [],
   "source": [
    "#show_names"
   ]
  },
  {
   "cell_type": "code",
   "execution_count": 9,
   "id": "18d7d220",
   "metadata": {},
   "outputs": [],
   "source": [
    "#testing functions from selenium package \n",
    "#will delete this chunk later\n",
    "driver = webdriver.Chrome()\n",
    "productions = ['The King and I', 'Dear Evan Hansen', 'Spring Awakening']\n",
    "for prod in productions:\n",
    "    driver.get('https://www.ibdb.com/shows/')     #website I am searching from (IBDB)\n",
    "    e = driver.find_element('name','ShowProperName')    #locating the searchbar\n",
    "    e.send_keys(prod)       #automating the searches (will store results in a list later)\n",
    "    e.send_keys(Keys.ENTER)\n",
    "    \n",
    "#^MIGHT MAKE MORE SENSE TO SEARCH FOR PRODUCTIONS FROM ADVANCED SEARCH PAGE, RATHER THAN SEARCH FOR SHOWS"
   ]
  },
  {
   "cell_type": "code",
   "execution_count": 16,
   "id": "1f27ba16",
   "metadata": {},
   "outputs": [
    {
     "data": {
      "text/plain": [
       "['/broadway-production/the-king-and-i-1935',\n",
       " '/broadway-production/the-king-and-i-3999',\n",
       " '/broadway-production/the-king-and-i-4357',\n",
       " '/broadway-production/the-king-and-i-4673',\n",
       " '/broadway-production/the-king-and-i-497593']"
      ]
     },
     "execution_count": 16,
     "metadata": {},
     "output_type": "execute_result"
    }
   ],
   "source": [
    "#testing out process for grabbing hrefs I need from search results\n",
    "#next step is to limit it so it only grabs hrefs for productions post 1979\n",
    "resp = requests.get('https://www.ibdb.com/broadway-show/the-king-and-i-5067') #don't need '#nyc-production' in url\n",
    "#resp = requests.get('https://www.ibdb.com/broadway-show/sunday-in-the-park-with-george-8418')\n",
    "test_html = resp.text\n",
    "htmlparser = etree.HTMLParser()\n",
    "tree = etree.parse(io.StringIO(test_html), parser=htmlparser)\n",
    "testroot = tree.getroot()\n",
    "links = testroot.xpath('//div[@id = \"nyc-productions\" and @data-id = \"nyc-productions\"]/div/div/div/div/a/@href')\n",
    "\n",
    "links"
   ]
  },
  {
   "cell_type": "code",
   "execution_count": 77,
   "id": "9e732cde",
   "metadata": {},
   "outputs": [
    {
     "data": {
      "text/plain": [
       "<script type=\"text/javascript\">\n",
       "        $(document).ready(function () {\n",
       "            Navigation.init(null);\n",
       "\n",
       "            var gallery = new Gallery($('#gallery'));\n",
       "            gallery.Init();\n",
       "\n",
       "            var amazonLightModal = new LightModal('#amazon-links');\n",
       "            amazonLightModal.Init();\n",
       "\n",
       "            $('#amazon-popup').click(function () {\n",
       "                amazonLightModal.Show();\n",
       "            });\n",
       "\n",
       "            var audioLightModal = new AudioLightModal('#audio-player','audio-iframe');\n",
       "            audioLightModal.Init();\n",
       "\n",
       "            $('#audio-popup').click(function () {\n",
       "                audioLightModal.Show();\n",
       "            });\n",
       "\n",
       "            $('.owl-gallery').owlCarousel({\n",
       "                items: 10,\n",
       "                dots: false,\n",
       "                nav: true,\n",
       "                autoplayTimeout: 2500,\n",
       "                loop: false,\n",
       "                video: true,\n",
       "                rewind: true,\n",
       "                navText: ['<i class=\"material-icons\">chevron_left</i>', '<i class=\"material-icons\">chevron_right</i>'],\n",
       "                responsive: {\n",
       "                    0: {\n",
       "                        items: 3\n",
       "                    },\n",
       "                    600: {\n",
       "                        items: 5\n",
       "                    },\n",
       "                    800: {\n",
       "                        items: 7\n",
       "                    },\n",
       "                    1000: {\n",
       "                        items: 10\n",
       "                    }\n",
       "                }\n",
       "            });\n",
       "\n",
       "            productionsCarousel.init();\n",
       "            \n",
       "            window.addEventListener(\"hashchange\", function (e) {\n",
       "                if ($('ul.tabs.main-tabs > li.tab > a.active').length) {\n",
       "                    var activeTabHref = $('ul.tabs.main-tabs > li.tab > a.active').attr('href').split('#')[1];\n",
       "                    var newUrlHref = e.newURL.split('#')[1];\n",
       "\n",
       "                    if (activeTabHref !== newUrlHref) {\n",
       "                        $('ul.tabs.main-tabs').tabs('select', newUrlHref);\n",
       "\n",
       "                        if (activeTabHref === 'Statistics' && $('body').hasClass('statistics-modal-gallery')) {\n",
       "                            $('body').css('overflow', '').removeClass('statistics-modal-gallery');\n",
       "                        } else if (newUrlHref === 'Statistics' && !$('body').hasClass('statistics-modal-gallery') && $('.statistics-modal').hasClass('open')) {\n",
       "                            $('body').css('overflow', 'hidden').addClass('statistics-modal-gallery');\n",
       "                        }\n",
       "                    }\n",
       "\n",
       "                    if (!$('ul.tabs.main-tabs > li.tab > a[href=\"#' + newUrlHref + '\"]').length) {\n",
       "                        $('ul.tabs.production-staff-tab').tabs('select', newUrlHref);\n",
       "                    }\n",
       "\n",
       "                    if (!newUrlHref) {\n",
       "                        $('ul.tabs.main-tabs').tabs('select', $('ul.tabs.main-tabs > li.tab:first-child > a').attr('href').split('#')[1]);\n",
       "                    }\n",
       "                }\n",
       "            });\n",
       "\n",
       "            $('ul.tabs.production-staff-tab > li.tab > a').on('click', function (e) {\n",
       "                $active = $(this);\n",
       "                window.location.hash = $active.attr('href');\n",
       "            });\n",
       "\n",
       "\n",
       "            \n",
       "        var grossChart = null; ;\n",
       "        var attendanceChart = null;\n",
       "\n",
       "        initStatistics($(\"#season\").val());\n",
       "\n",
       "    function initStatistics(id) {\n",
       "        var grossdata = {0:[['May 29, 2016','$546,476','48%','6,399','76%', 'May 29', 546476.00, 1145090.00, 6399.00, 8376.00, '0','8'],['Jun 5, 2016','$483,314','42%','5,888','70%', 'Jun 5', 483314.00, 1145090.00, 5888.00, 8376.00, '0','8'],['Jun 12, 2016','$584,349','51%','6,746','81%', 'Jun 12', 584349.00, 1145090.00, 6746.00, 8376.00, '0','8'],['Jun 19, 2016','$676,588','59%','7,418','89%', 'Jun 19', 676588.00, 1145090.00, 7418.00, 8376.00, '0','8'],['Jun 26, 2016','$840,824','73%','8,370','100%', 'Jun 26', 840824.00, 1145090.00, 8370.00, 8376.00, '0','8']],1:[['May 31, 2015','$1,095,371','90%','8,376','100%', 'May 31', 1095371.00, 1218380.00, 8376.00, 8376.00, '0','8'],['Jun 7, 2015','$1,110,174','91%','8,376','100%', 'Jun 7', 1110174.00, 1218380.00, 8376.00, 8376.00, '0','8'],['Jun 14, 2015','$1,109,198','91%','8,115','97%', 'Jun 14', 1109198.00, 1218380.00, 8115.00, 8376.00, '0','8'],['Jun 21, 2015','$1,154,506','95%','8,264','99%', 'Jun 21', 1154506.00, 1218380.00, 8264.00, 8376.00, '0','8'],['Jun 28, 2015','$1,174,105','96%','8,378','100%', 'Jun 28', 1174105.00, 1218380.00, 8378.00, 8376.00, '0','8'],['Jul 5, 2015','$1,241,086','102%','8,376','100%', 'Jul 5', 1241086.00, 1218380.00, 8376.00, 8376.00, '0','8'],['Jul 12, 2015','$1,247,155','102%','8,376','100%', 'Jul 12', 1247155.00, 1218380.00, 8376.00, 8376.00, '0','8'],['Jul 19, 2015','$1,152,974','95%','7,971','95%', 'Jul 19', 1152974.00, 1218380.00, 7971.00, 8376.00, '0','8'],['Jul 26, 2015','$969,161','80%','7,127','85%', 'Jul 26', 969161.00, 1218380.00, 7127.00, 8376.00, '0','8'],['Aug 2, 2015','$1,134,145','93%','8,264','99%', 'Aug 2', 1134145.00, 1218380.00, 8264.00, 8376.00, '0','8'],['Aug 9, 2015','$1,121,660','92%','8,322','99%', 'Aug 9', 1121660.00, 1218380.00, 8322.00, 8376.00, '0','8'],['Aug 16, 2015','$1,074,119','88%','7,904','94%', 'Aug 16', 1074119.00, 1218380.00, 7904.00, 8376.00, '0','8'],['Aug 23, 2015','$991,502','81%','7,386','88%', 'Aug 23', 991502.00, 1218380.00, 7386.00, 8376.00, '0','8'],['Aug 30, 2015','$885,496','73%','6,908','82%', 'Aug 30', 885496.00, 1218380.00, 6908.00, 8376.00, '0','8'],['Sep 6, 2015','$816,251','67%','6,482','77%', 'Sep 6', 816251.00, 1218380.00, 6482.00, 8376.00, '0','8'],['Sep 13, 2015','$903,608','74%','7,361','88%', 'Sep 13', 903608.00, 1218380.00, 7361.00, 8376.00, '0','8'],['Sep 20, 2015','$1,007,837','83%','7,968','95%', 'Sep 20', 1007837.00, 1218380.00, 7968.00, 8376.00, '0','8'],['Sep 27, 2015','$886,004','73%','7,643','91%', 'Sep 27', 886004.00, 1218380.00, 7643.00, 8376.00, '0','8'],['Oct 4, 2015','$868,414','71%','6,814','81%', 'Oct 4', 868414.00, 1218380.00, 6814.00, 8376.00, '0','8'],['Oct 11, 2015','$972,301','80%','7,464','89%', 'Oct 11', 972301.00, 1218380.00, 7464.00, 8376.00, '0','8'],['Oct 18, 2015','$883,573','73%','6,845','82%', 'Oct 18', 883573.00, 1218380.00, 6845.00, 8376.00, '0','8'],['Oct 25, 2015','$875,907','72%','6,670','80%', 'Oct 25', 875907.00, 1218380.00, 6670.00, 8376.00, '0','8'],['Nov 1, 2015','$614,987','50%','5,833','70%', 'Nov 1', 614987.00, 1218380.00, 5833.00, 8376.00, '0','8'],['Nov 8, 2015','$800,387','66%','6,678','80%', 'Nov 8', 800387.00, 1218380.00, 6678.00, 8376.00, '0','8'],['Nov 15, 2015','$766,243','63%','6,393','76%', 'Nov 15', 766243.00, 1218380.00, 6393.00, 8376.00, '0','8'],['Nov 22, 2015','$659,698','54%','5,915','71%', 'Nov 22', 659698.00, 1218380.00, 5915.00, 8376.00, '0','8'],['Nov 29, 2015','$966,143','79%','6,687','80%', 'Nov 29', 966143.00, 1218380.00, 6687.00, 8376.00, '0','8'],['Dec 6, 2015','$864,141','71%','7,044','84%', 'Dec 6', 864141.00, 1218380.00, 7044.00, 8376.00, '0','8'],['Dec 13, 2015','$782,810','64%','6,374','76%', 'Dec 13', 782810.00, 1218380.00, 6374.00, 8376.00, '0','8'],['Dec 20, 2015','$741,407','61%','6,399','76%', 'Dec 20', 741407.00, 1218380.00, 6399.00, 8376.00, '0','8'],['Dec 27, 2015','$1,094,022','90%','7,464','89%', 'Dec 27', 1094022.00, 1218380.00, 7464.00, 8376.00, '0','8'],['Jan 3, 2016','$1,050,922','77%','6,988','83%', 'Jan 3', 1050922.00, 1364960.00, 6988.00, 8376.00, '0','8'],['Jan 10, 2016','$794,737','69%','7,148','85%', 'Jan 10', 794737.00, 1145090.00, 7148.00, 8376.00, '0','8'],['Jan 17, 2016','$740,971','65%','7,189','86%', 'Jan 17', 740971.00, 1145090.00, 7189.00, 8376.00, '0','8'],['Jan 24, 2016','$444,069','53%','4,872','78%', 'Jan 24', 444069.00, 845730.00, 4872.00, 6282.00, '0','6'],['Jan 31, 2016','$682,534','60%','6,926','83%', 'Jan 31', 682534.00, 1145090.00, 6926.00, 8376.00, '0','8'],['Feb 7, 2016','$619,639','54%','6,464','77%', 'Feb 7', 619639.00, 1145090.00, 6464.00, 8376.00, '0','8'],['Feb 14, 2016','$717,826','63%','6,966','83%', 'Feb 14', 717826.00, 1145090.00, 6966.00, 8376.00, '0','8'],['Feb 21, 2016','$567,092','50%','6,201','74%', 'Feb 21', 567092.00, 1145090.00, 6201.00, 8376.00, '0','8'],['Feb 28, 2016','$534,179','47%','5,794','69%', 'Feb 28', 534179.00, 1145090.00, 5794.00, 8376.00, '0','8'],['Mar 6, 2016','$470,168','41%','5,396','64%', 'Mar 6', 470168.00, 1145090.00, 5396.00, 8376.00, '0','8'],['Mar 13, 2016','$633,677','55%','6,646','79%', 'Mar 13', 633677.00, 1145090.00, 6646.00, 8376.00, '0','8'],['Mar 20, 2016','$773,089','68%','7,310','87%', 'Mar 20', 773089.00, 1145090.00, 7310.00, 8376.00, '0','8'],['Mar 27, 2016','$928,304','81%','8,252','99%', 'Mar 27', 928304.00, 1145090.00, 8252.00, 8376.00, '0','8'],['Apr 3, 2016','$832,143','73%','7,541','90%', 'Apr 3', 832143.00, 1145090.00, 7541.00, 8376.00, '0','8'],['Apr 10, 2016','$918,970','80%','7,687','92%', 'Apr 10', 918970.00, 1145090.00, 7687.00, 8376.00, '0','8'],['Apr 17, 2016','$1,013,157','88%','8,083','97%', 'Apr 17', 1013157.00, 1145090.00, 8083.00, 8376.00, '0','8'],['Apr 24, 2016','$553,790','48%','6,787','81%', 'Apr 24', 553790.00, 1145090.00, 6787.00, 8376.00, '0','8'],['May 1, 2016','$621,885','54%','7,286','87%', 'May 1', 621885.00, 1145090.00, 7286.00, 8376.00, '0','8'],['May 8, 2016','$567,326','50%','6,515','78%', 'May 8', 567326.00, 1145090.00, 6515.00, 8376.00, '0','8'],['May 15, 2016','$542,874','47%','5,975','71%', 'May 15', 542874.00, 1145090.00, 5975.00, 8376.00, '0','8'],['May 22, 2016','$573,166','50%','7,274','87%', 'May 22', 573166.00, 1145090.00, 7274.00, 8376.00, '0','8']],2:[['Mar 15, 2015','$420,879','76%','4,188','100%', 'Mar 15', 420879.00, 556840.00, 4188.00, 4188.00, '4','0'],['Mar 22, 2015','$814,492','73%','8,316','99%', 'Mar 22', 814492.00, 1113680.00, 8316.00, 8376.00, '8','0'],['Mar 29, 2015','$776,946','70%','8,377','100%', 'Mar 29', 776946.00, 1113680.00, 8377.00, 8376.00, '8','0'],['Apr 5, 2015','$828,367','74%','8,376','100%', 'Apr 5', 828367.00, 1113680.00, 8376.00, 8376.00, '8','0'],['Apr 12, 2015','$761,311','68%','8,376','100%', 'Apr 12', 761311.00, 1113680.00, 8376.00, 8376.00, '8','0'],['Apr 19, 2015','$764,035','64%','8,376','100%', 'Apr 19', 764035.00, 1186970.00, 8376.00, 8376.00, '3','5'],['Apr 26, 2015','$981,217','81%','8,376','100%', 'Apr 26', 981217.00, 1218380.00, 8376.00, 8376.00, '0','8'],['May 3, 2015','$998,387','82%','8,376','100%', 'May 3', 998387.00, 1218380.00, 8376.00, 8376.00, '0','8'],['May 10, 2015','$951,532','78%','8,376','100%', 'May 10', 951532.00, 1218380.00, 8376.00, 8376.00, '0','8'],['May 17, 2015','$1,001,947','82%','8,376','100%', 'May 17', 1001947.00, 1218380.00, 8376.00, 8376.00, '0','8'],['May 24, 2015','$1,069,486','88%','8,376','100%', 'May 24', 1069486.00, 1218380.00, 8376.00, 8376.00, '0','8']] };\n",
       "\n",
       "                $('.gross-data').empty();\n",
       "\n",
       "        grossdata[id].reverse().forEach(function (item) {\n",
       "            if (item[1] !== '$0' || item[3] !== '0') {\n",
       "                        $('.gross-data').append('<tr><td>' + item[0] + '</td>' +\n",
       "                            '<td>' + item[1] + '</td>' +\n",
       "                            '<td class=\"center\">' + item[2] + '</td>' +\n",
       "                            '<td class=\"center\">' + item[3] + '</td>' +\n",
       "                            '<td class=\"hide-on-small-only center\">' + item[4] + '</td>' +\n",
       "                            '<td class=\"hide-on-small-only center\">' + item[10] + '</td>' +\n",
       "                            '<td class=\"hide-on-small-only center\">' + item[11] + '</td></tr>');\n",
       "            }\n",
       "        });\n",
       "\n",
       "                         var categories = grossdata[id].reverse().select(function (item) { return item[5]; });\n",
       "\n",
       "        var grossOptions = statisticGrossChart.getGrossOptions(\n",
       "                                                    categories.reverse(),\n",
       "                                                    grossdata[id].select(function (item) { return item[6]; }),\n",
       "                                                    grossdata[id].select(function (item) { return item[7]; }),\n",
       "                                                    document.getElementById('gross-chart').getContext('2d')\n",
       "                        );\n",
       "        var attandanceOptions = statisticAttendanceChart.getAttandanceOptions(\n",
       "                                                    categories.reverse(),\n",
       "                                                    grossdata[id].select(function (item) { return item[8]; }),\n",
       "                                                    grossdata[id].select(function (item) { return item[9]; }),\n",
       "                                                    document.getElementById('gross-chart').getContext('2d')\n",
       "                        );\n",
       "\n",
       "                         if (grossChart != null) {\n",
       "                             grossChart.destroy();\n",
       "                             grossChart = null;\n",
       "                         }\n",
       "\n",
       "                         if (attendanceChart != null) {\n",
       "                             attendanceChart.destroy();\n",
       "                             attendanceChart = null;\n",
       "                         }\n",
       "\n",
       "                        grossChart = new Chart($('#gross-chart'), grossOptions);\n",
       "                        attendanceChart = new Chart($('#attendance-chart'), attandanceOptions);\n",
       "                     };\n",
       "\n",
       "            $('select.statistics-year-change-event').each(function () {\n",
       "                $(this).change(function () {\n",
       "                             if (this.value != 'undefined') {\n",
       "                                 initStatistics(this.value);\n",
       "                             }\n",
       "                         });\n",
       "                     });\n",
       "\n",
       "            \n",
       "\n",
       "            $('.logo h3').each(function () {\n",
       "                $(this).click(function () {\n",
       "                         location.href = '/broadway-show/the-king-and-i-5067';\n",
       "                     })\n",
       "            });\n",
       "        });\n",
       "    </script>"
      ]
     },
     "execution_count": 77,
     "metadata": {},
     "output_type": "execute_result"
    }
   ],
   "source": [
    "#trying this with BS instead\n",
    "soup = BeautifulSoup(prod_html, 'html.parser')\n",
    "# this one works too\n",
    "# script = soup.find('script', attrs={'type':'text/javascript'})\n",
    "script = soup.find_all('script', type='text/javascript')\n",
    "#js: str = script.text.replace('\\n', '')\n",
    "#raw_json = re.search('var spConfig=newApex.Config\\(({.*})\\);', js, flags=re.MULTILINE).group(1)\n",
    "#data = json.loads(raw_json)\n",
    "#labels = [opt['label'] for opt in data['attributes']['199']['options']]\n",
    "#print(labels)\n",
    "script[1]"
   ]
  },
  {
   "cell_type": "code",
   "execution_count": 45,
   "id": "825aca77",
   "metadata": {},
   "outputs": [],
   "source": [
    "url = 'https://www.ibdb.com'\n",
    "js_list = []\n",
    "for frag in links:\n",
    "    prod_link = url + frag\n",
    "    resp = requests.get(prod_link)\n",
    "    prod_html = resp.text\n",
    "    prod_tree = etree.parse(io.StringIO(prod_html), parser=htmlparser)\n",
    "    prod_root = tree.getroot()\n",
    "    js_elt = prod_root.xpath('//script[@type = \"text/javascript\" and position() = 2]')[0]\n",
    "    js_list.append(js_elt)"
   ]
  },
  {
   "cell_type": "code",
   "execution_count": 59,
   "id": "88cb383d",
   "metadata": {},
   "outputs": [
    {
     "data": {
      "text/plain": [
       "lxml.etree._Element"
      ]
     },
     "execution_count": 59,
     "metadata": {},
     "output_type": "execute_result"
    }
   ],
   "source": [
    "type(js_list[0])"
   ]
  },
  {
   "cell_type": "code",
   "execution_count": null,
   "id": "1ddb56a8",
   "metadata": {},
   "outputs": [],
   "source": []
  },
  {
   "cell_type": "code",
   "execution_count": 10,
   "id": "305919d9",
   "metadata": {},
   "outputs": [],
   "source": [
    "#need to get \"/broadway-production/<name-of-show-number>\" for every production\n",
    "#href is important\n",
    "#URL = \"https://www.ibdb.com/shows/\" "
   ]
  }
 ],
 "metadata": {
  "kernelspec": {
   "display_name": "Python 3",
   "language": "python",
   "name": "python3"
  },
  "language_info": {
   "codemirror_mode": {
    "name": "ipython",
    "version": 3
   },
   "file_extension": ".py",
   "mimetype": "text/x-python",
   "name": "python",
   "nbconvert_exporter": "python",
   "pygments_lexer": "ipython3",
   "version": "3.8.8"
  }
 },
 "nbformat": 4,
 "nbformat_minor": 5
}
